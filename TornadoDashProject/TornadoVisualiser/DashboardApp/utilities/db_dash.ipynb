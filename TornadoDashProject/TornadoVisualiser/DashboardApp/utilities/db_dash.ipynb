{
 "cells": [
  {
   "attachments": {},
   "cell_type": "markdown",
   "metadata": {},
   "source": [
    "## Database population dashboard"
   ]
  },
  {
   "attachments": {},
   "cell_type": "markdown",
   "metadata": {},
   "source": [
    "Click \"Run All\" to generate device information in the info_files directory."
   ]
  },
  {
   "cell_type": "code",
   "execution_count": 1,
   "metadata": {},
   "outputs": [],
   "source": [
    "import subprocess\n",
    "import os"
   ]
  },
  {
   "cell_type": "code",
   "execution_count": 2,
   "metadata": {},
   "outputs": [
    {
     "name": "stdout",
     "output_type": "stream",
     "text": [
      "Folder '/Users/ksrivastava/tornadovm-dashboard/TornadoDashProject/TornadoVisualiser/DashboardApp/utilities/info_files' created successfully.\n"
     ]
    }
   ],
   "source": [
    "#Change this path to your path of the tornado VM installation\n",
    "target_directory = \"/Users/ksrivastava/Desktop/UoMInternship/TornadoVM\"\n",
    "\n",
    "current_dir = os.path.abspath(\".\")\n",
    "os.chdir(target_directory)\n",
    "\n",
    "subfolder = \"info_files\"\n",
    "folder_path = os.path.join(current_dir, subfolder)\n",
    "os.makedirs(folder_path, exist_ok=True)\n",
    "print(f\"Folder '{folder_path}' created successfully.\")"
   ]
  },
  {
   "attachments": {},
   "cell_type": "markdown",
   "metadata": {},
   "source": [
    "### Generate information files for device and build"
   ]
  },
  {
   "attachments": {},
   "cell_type": "markdown",
   "metadata": {},
   "source": [
    "### version"
   ]
  },
  {
   "cell_type": "code",
   "execution_count": 3,
   "metadata": {},
   "outputs": [
    {
     "name": "stdout",
     "output_type": "stream",
     "text": [
      "Output saved to /Users/ksrivastava/tornadovm-dashboard/TornadoDashProject/TornadoVisualiser/DashboardApp/utilities/info_files/version.txt\n"
     ]
    }
   ],
   "source": [
    "# Define the command as a single string\n",
    "command1 = (\n",
    "    \"source setVars.sh && \"\n",
    "    \"tornado --version\"\n",
    ")\n",
    "\n",
    "# Specify the output file path\n",
    "output_file1 = current_dir + \"/info_files/version.txt\"\n",
    "\n",
    "# Execute the command and redirect the output to the file\n",
    "with open(output_file1, \"w\") as output1:\n",
    "    subprocess.run(command1, shell=True, executable=\"/bin/bash\", stdout=output1)\n",
    "\n",
    "# Print a message to confirm the output file creation\n",
    "print(f\"Output saved to {output_file1}\")"
   ]
  },
  {
   "cell_type": "code",
   "execution_count": 4,
   "metadata": {},
   "outputs": [
    {
     "name": "stdout",
     "output_type": "stream",
     "text": [
      "Output saved to /Users/ksrivastava/tornadovm-dashboard/TornadoDashProject/TornadoVisualiser/DashboardApp/utilities/info_files/saxpy_output.txt\n"
     ]
    }
   ],
   "source": [
    "# Define the command as a single string\n",
    "command2 = (\n",
    "    \"source setVars.sh && \"\n",
    "    \"tornado --jvm='-Xms24G -Xmx24G -server -Dtornado.recover.bailout=False ' -m tornado.benchmarks/uk.ac.manchester.tornado.benchmarks.BenchmarkRunner --params='saxpy'\"\n",
    ")\n",
    "\n",
    "# Specify the output file path\n",
    "output_file2 = current_dir + \"/info_files/saxpy_output.txt\"\n",
    "\n",
    "# Execute the command and redirect the output to the file\n",
    "with open(output_file2, \"w\") as output2:\n",
    "    subprocess.run(command2, shell=True, executable=\"/bin/bash\", stdout=output2)\n",
    "\n",
    "# Print a message to confirm the output file creation\n",
    "print(f\"Output saved to {output_file2}\")"
   ]
  },
  {
   "cell_type": "code",
   "execution_count": 5,
   "metadata": {},
   "outputs": [
    {
     "name": "stdout",
     "output_type": "stream",
     "text": [
      "Output saved to /Users/ksrivastava/tornadovm-dashboard/TornadoDashProject/TornadoVisualiser/DashboardApp/utilities/info_files/sgemm_profiler_output.txt\n"
     ]
    }
   ],
   "source": [
    "# Command 3: Run Tornado Benchmark for 'sgemm' with profiler\n",
    "command3 = (\n",
    "    \"source setVars.sh &&\"\n",
    "    \"tornado --jvm='-Dtornado.profiler=True -Dtornado.log.profiler=True -Dtornado.profiler.dump.dir=\" + target_directory + \"/info.json' -m tornado.benchmarks/uk.ac.manchester.tornado.benchmarks.BenchmarkRunner --params='sgemm'\"\n",
    ")\n",
    "output_file3 = current_dir + \"/info_files/sgemm_profiler_output.txt\"\n",
    "\n",
    "with open(output_file3, \"w\") as output3:\n",
    "    subprocess.run(command3, shell=True, executable=\"/bin/bash\", stdout=output3)\n",
    "\n",
    "print(f\"Output saved to {output_file3}\")"
   ]
  },
  {
   "cell_type": "code",
   "execution_count": 6,
   "metadata": {},
   "outputs": [
    {
     "name": "stdout",
     "output_type": "stream",
     "text": [
      "Output saved to /Users/ksrivastava/tornadovm-dashboard/TornadoDashProject/TornadoVisualiser/DashboardApp/utilities/info_files/platform.txt\n"
     ]
    }
   ],
   "source": [
    "# Command 4: Get the system platform\n",
    "command4 = \"python3 -c 'import platform; print(platform.system())'\"\n",
    "output_file4 = current_dir + \"/info_files/platform.txt\"\n",
    "\n",
    "with open(output_file4, \"w\") as output4:\n",
    "    subprocess.run(command4, shell=True, executable=\"/bin/bash\", stdout=output4)\n",
    "\n",
    "print(f\"Output saved to {output_file4}\")"
   ]
  },
  {
   "cell_type": "code",
   "execution_count": 7,
   "metadata": {},
   "outputs": [
    {
     "name": "stdout",
     "output_type": "stream",
     "text": [
      "Output saved to /Users/ksrivastava/tornadovm-dashboard/TornadoDashProject/TornadoVisualiser/DashboardApp/utilities/info_files/clinfo.txt\n"
     ]
    }
   ],
   "source": [
    "# Command 5: Get OpenCL information\n",
    "command5 = \"clinfo\"\n",
    "output_file5 = current_dir + \"/info_files/clinfo.txt\"\n",
    "\n",
    "with open(output_file5, \"w\") as output5:\n",
    "    subprocess.run(command5, shell=True, executable=\"/bin/bash\", stdout=output5)\n",
    "\n",
    "print(f\"Output saved to {output_file5}\")"
   ]
  },
  {
   "cell_type": "code",
   "execution_count": 8,
   "metadata": {},
   "outputs": [
    {
     "name": "stdout",
     "output_type": "stream",
     "text": [
      "Output saved to /Users/ksrivastava/tornadovm-dashboard/TornadoDashProject/TornadoVisualiser/DashboardApp/utilities/info_files/gcc_version.txt\n"
     ]
    }
   ],
   "source": [
    "# Command 7: Get GCC Version\n",
    "command7 = \"gcc --version\"\n",
    "output_file7 = current_dir + \"/info_files/gcc_version.txt\"\n",
    "\n",
    "with open(output_file7, \"w\") as output7:\n",
    "    subprocess.run(command7, shell=True, executable=\"/bin/bash\", stdout=output7)\n",
    "\n",
    "print(f\"Output saved to {output_file7}\")"
   ]
  },
  {
   "cell_type": "code",
   "execution_count": 9,
   "metadata": {},
   "outputs": [
    {
     "name": "stdout",
     "output_type": "stream",
     "text": [
      "Output saved to /Users/ksrivastava/tornadovm-dashboard/TornadoDashProject/TornadoVisualiser/DashboardApp/utilities/info_files/maven_version.txt\n"
     ]
    }
   ],
   "source": [
    "# Command 8: Get Maven Version\n",
    "command8 = \"mvn --version\"\n",
    "output_file8 = current_dir + \"/info_files/maven_version.txt\"\n",
    "\n",
    "with open(output_file8, \"w\") as output8:\n",
    "    subprocess.run(command8, shell=True, executable=\"/bin/bash\", stdout=output8)\n",
    "\n",
    "print(f\"Output saved to {output_file8}\")"
   ]
  },
  {
   "cell_type": "code",
   "execution_count": 10,
   "metadata": {},
   "outputs": [
    {
     "name": "stdout",
     "output_type": "stream",
     "text": [
      "Output saved to /Users/ksrivastava/tornadovm-dashboard/TornadoDashProject/TornadoVisualiser/DashboardApp/utilities/info_files/cmake_version.txt\n"
     ]
    }
   ],
   "source": [
    "# Command 9: Get CMake Version\n",
    "command9 = \"cmake --version\"\n",
    "output_file9 = current_dir + \"/info_files/cmake_version.txt\"\n",
    "\n",
    "with open(output_file9, \"w\") as output9:\n",
    "    subprocess.run(command9, shell=True, executable=\"/bin/bash\", stdout=output9)\n",
    "\n",
    "print(f\"Output saved to {output_file9}\")"
   ]
  },
  {
   "cell_type": "code",
   "execution_count": 11,
   "metadata": {},
   "outputs": [
    {
     "name": "stdout",
     "output_type": "stream",
     "text": [
      "Output saved to /Users/ksrivastava/tornadovm-dashboard/TornadoDashProject/TornadoVisualiser/DashboardApp/utilities/info_files/python_version.txt\n"
     ]
    }
   ],
   "source": [
    "# Command 10: Get Python Version\n",
    "command10 = \"python3 --version\"\n",
    "output_file10 = current_dir + \"/info_files/python_version.txt\"\n",
    "\n",
    "with open(output_file10, \"w\") as output10:\n",
    "    subprocess.run(command10, shell=True, executable=\"/bin/bash\", stdout=output10)\n",
    "\n",
    "print(f\"Output saved to {output_file10}\")"
   ]
  }
 ],
 "metadata": {
  "kernelspec": {
   "display_name": "Python 3",
   "language": "python",
   "name": "python3"
  },
  "language_info": {
   "codemirror_mode": {
    "name": "ipython",
    "version": 3
   },
   "file_extension": ".py",
   "mimetype": "text/x-python",
   "name": "python",
   "nbconvert_exporter": "python",
   "pygments_lexer": "ipython3",
   "version": "3.11.4"
  },
  "orig_nbformat": 4,
  "vscode": {
   "interpreter": {
    "hash": "b0fa6594d8f4cbf19f97940f81e996739fb7646882a419484c72d19e05852a7e"
   }
  }
 },
 "nbformat": 4,
 "nbformat_minor": 2
}
